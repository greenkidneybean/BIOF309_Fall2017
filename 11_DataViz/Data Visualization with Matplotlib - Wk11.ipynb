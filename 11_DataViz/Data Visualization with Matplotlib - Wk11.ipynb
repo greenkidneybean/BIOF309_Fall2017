{
 "cells": [
  {
   "cell_type": "markdown",
   "metadata": {},
   "source": [
    "# Data Visualization with Matplotlib\n",
    "### BIOF309 - Week 11\n",
    "---"
   ]
  },
  {
   "cell_type": "markdown",
   "metadata": {},
   "source": [
    "### [Matplotlib](https://matplotlib.org/) is a fairly popular visualization tool for python, but there are [many others](https://blog.modeanalytics.com/python-data-visualization-libraries/):\n",
    "* [Altair](https://altair-viz.github.io/)\n",
    "* [Bokeh](https://bokeh.pydata.org/en/latest/)\n",
    "* [Plotly](https://plot.ly/python/)"
   ]
  },
  {
   "cell_type": "code",
   "execution_count": null,
   "metadata": {},
   "outputs": [],
   "source": [
    "import numpy as np\n",
    "import matplotlib.pyplot as plt\n",
    "% matplotlib inline"
   ]
  },
  {
   "cell_type": "code",
   "execution_count": null,
   "metadata": {},
   "outputs": [],
   "source": [
    "# generate some random data to work with\n",
    "x1 = np.random.uniform(0,1,10000)\n",
    "x2 = np.random.normal(0, 1, 10000)\n",
    "x3 = np.random.poisson(2, 10000)"
   ]
  },
  {
   "cell_type": "code",
   "execution_count": null,
   "metadata": {},
   "outputs": [],
   "source": [
    "# make a histrogram of the uniform data (x1)\n",
    "plt.hist(x1)\n"
   ]
  },
  {
   "cell_type": "code",
   "execution_count": null,
   "metadata": {},
   "outputs": [],
   "source": [
    "# now add in some labels\n",
    "plt.hist(x1)\n",
    "plt.title(\"Title of My Plot\")\n",
    "plt.xlabel(\"X-Axis\")\n",
    "plt.ylabel(\"Y-Axis\")\n"
   ]
  },
  {
   "cell_type": "code",
   "execution_count": null,
   "metadata": {},
   "outputs": [],
   "source": [
    "# add a legend\n",
    "plt.hist(x1, label='random_uniform')\n",
    "plt.legend( loc='upper right', numpoints = 1 )\n"
   ]
  },
  {
   "cell_type": "code",
   "execution_count": null,
   "metadata": {
    "collapsed": true
   },
   "outputs": [],
   "source": [
    "# notice that the plot labels generated earlier are no longer present in the above plot"
   ]
  },
  {
   "cell_type": "code",
   "execution_count": null,
   "metadata": {},
   "outputs": [],
   "source": [
    "# plot multiple histograms side-by-side\n",
    "fig, (ax1, ax2, ax3) = plt.subplots(1,3)\n",
    "ax1.hist(x1)\n",
    "ax2.hist(x2)\n",
    "ax3.hist(x3)\n",
    "ax1.set_title(\"Uniform\")\n",
    "ax2.set_title(\"Normal\")\n",
    "ax3.set_title(\"Poisson\")"
   ]
  },
  {
   "cell_type": "code",
   "execution_count": null,
   "metadata": {},
   "outputs": [],
   "source": [
    "# you can generate bins to sort the observations into, which changes the resolution\n",
    "fig, (ax1, ax2) = plt.subplots(1,2)\n",
    "ax1.hist(x1)\n",
    "ax2.hist(x1, bins=100)\n",
    "ax1.set_title(\"Without Bins\")\n",
    "ax2.set_title(\"With 100 Bins\")\n"
   ]
  },
  {
   "cell_type": "code",
   "execution_count": null,
   "metadata": {},
   "outputs": [],
   "source": [
    "# make a scatterplot with the normal distribution\n",
    "plt.plot(np.random.normal(0, 1, 1000), np.random.normal(0, 1, 1000), \"g.\") # \"g.\" is formating notation, try \"bs\"\n",
    "plt.title(\"Independent Gaussians\")\n",
    "plt.xlabel(\"First Random Var\")\n",
    "plt.ylabel(\"Second Random Var\")\n",
    "plt.show()"
   ]
  },
  {
   "cell_type": "code",
   "execution_count": null,
   "metadata": {},
   "outputs": [],
   "source": [
    "# How to make a QQ plot\n",
    "LMDA = 1000.\n",
    "xn1 = np.random.poisson(LMDA, 10000) #poisson with lambda = 1000\n",
    "xn2 = np.random.normal(LMDA, np.sqrt(LMDA), 10000) #approximate it with a gaussian\n",
    "# sort your data\n",
    "xn1.sort()\n",
    "xn2.sort()\n",
    "# scatter plot sorted data\n",
    "plt.plot(xn1, xn2, \"b.\")\n",
    "# plot a line with slope of 1 for perspective\n",
    "m1 = np.min(np.concatenate([xn1, xn2]))\n",
    "m2 = np.max(np.concatenate([xn1, xn2]))\n",
    "plt.plot([m1, m2], [m1, m2], \"r\", linestyle = \"dashed\")\n"
   ]
  },
  {
   "cell_type": "markdown",
   "metadata": {},
   "source": [
    "## Exercise\n",
    "* Take the following arrays:  \n",
    "```\n",
    "x4 = np.random.normal(10, 2, 10000)\n",
    "x5 = np.random.normal(0, 1, 10000)\n",
    "```\n",
    "* Transform x5 so it looks like x4\n",
    "* Check your results with a QQ plot\n",
    "* Check again by creating histograms of each in a subplot\n",
    "* Measure the means and standard deviations of each distribution to see if they are similar\n"
   ]
  },
  {
   "cell_type": "code",
   "execution_count": null,
   "metadata": {},
   "outputs": [],
   "source": [
    "# starting qq plot\n",
    "x4 = np.random.normal(10, 2, 10000)\n",
    "x5 = np.random.normal(0, 1, 10000)\n",
    "x4.sort()\n",
    "x5.sort()\n",
    "plt.plot(x4,x5)\n",
    "m1 = np.min(np.concatenate([x4, x5]))\n",
    "m2 = np.max(np.concatenate([x4, x5]))\n",
    "plt.plot([m1, m2], [m1, m2], \"r\", linestyle = \"dashed\")"
   ]
  },
  {
   "cell_type": "code",
   "execution_count": null,
   "metadata": {},
   "outputs": [],
   "source": [
    "# can you get x5 to overlay x4 by transforming the x5 array?\n",
    "plt.hist(x4, label='x4')\n",
    "plt.hist(x5, label = 'x5')\n",
    "plt.legend( loc='upper right', numpoints = 1 )"
   ]
  },
  {
   "cell_type": "code",
   "execution_count": null,
   "metadata": {},
   "outputs": [],
   "source": [
    "# Hint: try adding 5 to all the values in x5\n",
    "x6 = x5 + 5\n",
    "plt.hist(x4, label='x4')\n",
    "plt.hist(x5, label = 'x5')\n",
    "plt.hist(x6, label = 'x6')\n",
    "plt.legend( loc='upper right', numpoints = 1 )"
   ]
  },
  {
   "cell_type": "code",
   "execution_count": null,
   "metadata": {
    "collapsed": true
   },
   "outputs": [],
   "source": []
  },
  {
   "cell_type": "code",
   "execution_count": null,
   "metadata": {
    "collapsed": true
   },
   "outputs": [],
   "source": []
  },
  {
   "cell_type": "code",
   "execution_count": null,
   "metadata": {
    "collapsed": true
   },
   "outputs": [],
   "source": []
  },
  {
   "cell_type": "code",
   "execution_count": null,
   "metadata": {},
   "outputs": [],
   "source": [
    "# solution\n",
    "x6 = (x5* 2) + 10\n",
    "plt.hist(x4, label='x4')\n",
    "plt.hist(x5, label='x5')\n",
    "plt.hist(x6, label='x6')\n",
    "plt.legend( loc='upper left', numpoints = 1 )"
   ]
  },
  {
   "cell_type": "code",
   "execution_count": null,
   "metadata": {},
   "outputs": [],
   "source": [
    "# qq plot solution\n",
    "x4.sort()\n",
    "x6.sort()\n",
    "plt.plot(x4,x6)\n",
    "m1 = np.min(np.concatenate([x4, x6]))\n",
    "m2 = np.max(np.concatenate([x4, x6]))\n",
    "plt.plot([m1, m2], [m1, m2], \"r\", linestyle = \"dashed\")"
   ]
  },
  {
   "cell_type": "code",
   "execution_count": null,
   "metadata": {
    "collapsed": true
   },
   "outputs": [],
   "source": []
  }
 ],
 "metadata": {
  "kernelspec": {
   "display_name": "Python 3",
   "language": "python",
   "name": "python3"
  },
  "language_info": {
   "codemirror_mode": {
    "name": "ipython",
    "version": 3
   },
   "file_extension": ".py",
   "mimetype": "text/x-python",
   "name": "python",
   "nbconvert_exporter": "python",
   "pygments_lexer": "ipython3",
   "version": "3.6.1"
  }
 },
 "nbformat": 4,
 "nbformat_minor": 2
}
